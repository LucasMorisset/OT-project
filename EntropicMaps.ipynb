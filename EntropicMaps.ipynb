{
 "cells": [
  {
   "cell_type": "markdown",
   "metadata": {},
   "source": [
    "# Entropic maps "
   ]
  },
  {
   "cell_type": "code",
   "execution_count": 11,
   "metadata": {},
   "outputs": [],
   "source": [
    "import numpy as np\n",
    "import ot\n",
    "import matplotlib.pyplot as plt\n",
    "\n",
    "from torchcfm.utils import * #Import the sampling functions"
   ]
  },
  {
   "cell_type": "code",
   "execution_count": 31,
   "metadata": {},
   "outputs": [],
   "source": [
    "def compute_sinkhorn_coupling(P, Q, reg=0.1, nb_iter=100000):\n",
    "    \"\"\"\n",
    "    Compute the entropic optimal transport plan between datasets P and Q using the Sinkhorn algorithm.\n",
    "\n",
    "    Parameters:\n",
    "    - P (np.array): Source dataset where each row is a 2D sample.\n",
    "    - Q (np.array): Target dataset where each row is a 2D sample.\n",
    "    - reg (float): Regularization parameter for entropic regularization.\n",
    "\n",
    "    Returns:\n",
    "    - np.array: Optimal transport plan matrix.\n",
    "    \"\"\"\n",
    "\n",
    "    # Step 1: Compute the cost matrix using Euclidean distance\n",
    "    cost_matrix = ot.dist(P, Q, metric='sqeuclidean')\n",
    "\n",
    "    # Step 2: Normalize histograms (assuming uniform distribution over samples)\n",
    "    P_hist = np.ones((P.shape[0],)) / P.shape[0]\n",
    "    Q_hist = np.ones((Q.shape[0],)) / Q.shape[0]\n",
    "\n",
    "    # Step 3: Compute the Sinkhorn transport plan\n",
    "    transport_plan = ot.sinkhorn(P_hist, Q_hist, cost_matrix, reg, numItermax=nb_iter)\n",
    "\n",
    "    return transport_plan\n",
    "\n",
    "def coupling_to_map(coupling, target_support):\n",
    "    '''\n",
    "    coupling_to_map - converts a diffuse coupling into a map\n",
    "        by computing the conditional expectation of each slice\n",
    "\n",
    "    :param coupling: 2D numpy array with coupling[i,j] being the mass from Xi to Yj\n",
    "    :param target_support: locations of the points Yj\n",
    "    :return: 2D numpy array where the i'th row is the image of the i'th sample under the map\n",
    "    '''\n",
    "\n",
    "    if np.abs(np.sum(coupling) - 1.0) > 0.00001:\n",
    "        raise Exception(\"coupling does not sum to 1\")\n",
    "        \n",
    "    if np.min(coupling) < 0.0:\n",
    "        raise Exception(\"coupling cannot have negative entries\")\n",
    "        \n",
    "    if coupling.shape[1] != target_support.shape[0]:\n",
    "        raise Exception(\"coupling.shape[1] must equal target_support.shape[0]\")\n",
    "    \n",
    "    unnormalized_map = coupling @ target_support\n",
    "    normalized_map = unnormalized_map / coupling.sum(1)[:,np.newaxis]\n",
    "    \n",
    "    return normalized_map\n",
    "\n",
    "def entropic_map(P, Q, reg=0.1, nb_iter=10000):\n",
    "    pi = compute_sinkhorn_coupling(P, Q, reg=reg, nb_iter=nb_iter)\n",
    "    return coupling_to_map(pi, Q)\n",
    "\n",
    "x0 = sample_8gaussians(256).numpy()\n",
    "x1 = sample_moons(256).numpy()\n",
    "\n",
    "map = entropic_map(x0, x1, reg=0.2)"
   ]
  }
 ],
 "metadata": {
  "kernelspec": {
   "display_name": "Python 3",
   "language": "python",
   "name": "python3"
  },
  "language_info": {
   "codemirror_mode": {
    "name": "ipython",
    "version": 3
   },
   "file_extension": ".py",
   "mimetype": "text/x-python",
   "name": "python",
   "nbconvert_exporter": "python",
   "pygments_lexer": "ipython3",
   "version": "3.8.10"
  }
 },
 "nbformat": 4,
 "nbformat_minor": 2
}
